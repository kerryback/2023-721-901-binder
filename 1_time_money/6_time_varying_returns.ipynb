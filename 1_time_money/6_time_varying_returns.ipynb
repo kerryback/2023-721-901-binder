{
 "cells": [
  {
   "cell_type": "code",
   "execution_count": 1,
   "metadata": {},
   "outputs": [],
   "source": [
    "import numpy as np\n",
    "\n",
    "T = 60*12\n",
    "mn = 0.005\n",
    "sd = 0.04\n",
    "\n",
    "r = np.random.normal(loc=mn, scale=sd, size=T)\n",
    "r = dict(zip(range(1, T+1), r))"
   ]
  },
  {
   "cell_type": "code",
   "execution_count": 2,
   "metadata": {},
   "outputs": [],
   "source": [
    "R = 30*12      # 30 years until retirement\n",
    "T = 60*12      # 60 total years\n",
    "B0 = 100000    # initial balance is $100,000\n",
    "D1 = 1000      # initial savings is $1,000 (per month)\n",
    "W1 = 10000     # withdraw $10,000 first month in retirement\n",
    "g = 0.002      # deposit is 0.2% larger each month\n",
    "h = 0          # withdrawals are constant\n",
    "\n",
    "D = D1 * (1+g)**np.arange(R)\n",
    "D = dict(zip(range(1, R+1), D))\n",
    "\n",
    "W = W1 * (1+h)**np.arange(T-R)\n",
    "W = dict(zip(range(R, T), W))"
   ]
  },
  {
   "cell_type": "code",
   "execution_count": 3,
   "metadata": {},
   "outputs": [],
   "source": [
    "B = np.zeros(T+1)\n",
    "B[0] = B0\n",
    "\n",
    "for t in range(1, R+1) :               \n",
    "    B[t] = (1+r[t])*B[t-1] + D[t] \n",
    "\n",
    "B[R] -= W[R]\n",
    "\n",
    "for t in range(R+1, T):\n",
    "    B[t] = (1+r[t])*B[t-1] - W[t]\n",
    "\n",
    "B[T] = (1+r[T])*B[T-1]"
   ]
  },
  {
   "cell_type": "code",
   "execution_count": 4,
   "metadata": {},
   "outputs": [],
   "source": [
    "r = np.random.normal(loc=mn, scale=sd, size=T)\n",
    "D = D1 * (1+g)**np.arange(R)\n",
    "W = W1 * (1+h)**np.arange(T-R)\n",
    "\n",
    "fvFactors = np.flip(np.cumprod(np.flip(1+r)))\n",
    "fvFactors = np.concatenate((fvFactors, [1]))\n",
    "\n",
    "B0 = np.concatenate(([B0], np.zeros(T)))\n",
    "D = np.concatenate(([0], D, np.zeros(T-R)))\n",
    "W = np.concatenate((np.zeros(R), W, [0]))\n",
    "CF = B0 + D - W\n",
    "BT = np.sum(CF*fvFactors)"
   ]
  }
 ],
 "metadata": {
  "kernelspec": {
   "display_name": "venv",
   "language": "python",
   "name": "python3"
  },
  "language_info": {
   "codemirror_mode": {
    "name": "ipython",
    "version": 3
   },
   "file_extension": ".py",
   "mimetype": "text/x-python",
   "name": "python",
   "nbconvert_exporter": "python",
   "pygments_lexer": "ipython3",
   "version": "3.10.3"
  },
  "vscode": {
   "interpreter": {
    "hash": "6b5a27a203de820ac365bd5a4b3ff58c67af6f6b7dc4d58e8a16e3b95ed901bb"
   }
  }
 },
 "nbformat": 4,
 "nbformat_minor": 4
}
