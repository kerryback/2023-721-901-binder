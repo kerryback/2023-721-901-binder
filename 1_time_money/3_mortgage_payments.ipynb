{
 "cells": [
  {
   "cell_type": "code",
   "execution_count": 2,
   "metadata": {},
   "outputs": [],
   "source": [
    "import numpy_financial as npf\n",
    " \n",
    "nper = 30 * 12       # 30 year loan\n",
    "principal = 400000   # borrow $400,000\n",
    "pmt = -1500          # pay $1,500 per month\n",
    "rate = 0.04 / 12     # annual rate is 4%\n",
    "balloon = 0          # no balloon"
   ]
  },
  {
   "cell_type": "code",
   "execution_count": 3,
   "metadata": {},
   "outputs": [],
   "source": [
    "# Question 1: what will my payment be?\n",
    "PMT = npf.pmt(rate=rate, nper=nper, pv=principal, fv=balloon)\n",
    " \n",
    "# Question 2: how much can I borrow?\n",
    "PRINCIPAL = npf.pv(rate=rate, nper=nper, pmt=pmt, fv=balloon)\n",
    "\n",
    "# Question 3: what will my rate be?\n",
    "RATE = npf.rate(nper=nper, pv=principal, pmt=pmt, fv=balloon)\n",
    "\n",
    "# And, how much of a balloon do I need?\n",
    "BALLOON = npf.fv(rate=rate, nper=nper, pmt=pmt, pv=principal)"
   ]
  }
 ],
 "metadata": {
  "kernelspec": {
   "display_name": "venv",
   "language": "python",
   "name": "python3"
  },
  "language_info": {
   "codemirror_mode": {
    "name": "ipython",
    "version": 3
   },
   "file_extension": ".py",
   "mimetype": "text/x-python",
   "name": "python",
   "nbconvert_exporter": "python",
   "pygments_lexer": "ipython3",
   "version": "3.10.3"
  },
  "vscode": {
   "interpreter": {
    "hash": "6b5a27a203de820ac365bd5a4b3ff58c67af6f6b7dc4d58e8a16e3b95ed901bb"
   }
  }
 },
 "nbformat": 4,
 "nbformat_minor": 4
}
