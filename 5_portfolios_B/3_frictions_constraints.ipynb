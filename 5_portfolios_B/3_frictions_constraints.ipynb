{
 "cells": [
  {
   "cell_type": "code",
   "execution_count": 1,
   "metadata": {
    "pycharm": {
     "name": "#%%\n"
    }
   },
   "outputs": [],
   "source": [
    "import numpy as np\n",
    "rs = 0.02\n",
    "rb = 0.05\n",
    "\n",
    "mn1, mn2 = 0.05, 0.1\n",
    "sd1, sd2 = 0.1, 0.1\n",
    "corr = 0.9\n",
    "raver = 2\n",
    "\n",
    "R = np.identity(2)\n",
    "R[0, 1] = R[1, 0] = corr\n",
    "S = np.diag([sd1, sd2])\n",
    "C = S @ R @ S"
   ]
  },
  {
   "cell_type": "code",
   "execution_count": 2,
   "metadata": {
    "collapsed": false,
    "pycharm": {
     "name": "#%%\n"
    }
   },
   "outputs": [],
   "source": [
    "P = np.zeros((4, 4))\n",
    "P[2:,2:] = raver*C\n",
    "q = [-rs, rb, -mn1, -mn2]\n",
    "G = -np.identity(4)\n",
    "h = np.zeros(4)\n",
    "A = [1., -1., 1., 1.]\n",
    "b = [1.]"
   ]
  },
  {
   "cell_type": "code",
   "execution_count": 3,
   "metadata": {
    "collapsed": false,
    "pycharm": {
     "name": "#%%\n"
    }
   },
   "outputs": [
    {
     "name": "stdout",
     "output_type": "stream",
     "text": [
      "     pcost       dcost       gap    pres   dres\n",
      " 0: -5.5226e-02 -4.4750e-01  6e+00  3e+00  3e+00\n",
      " 1: -4.5212e-02 -7.9829e-01  9e-01  3e-01  3e-01\n",
      " 2: -5.0337e-02 -1.3104e-01  8e-02  2e-02  2e-02\n",
      " 3: -1.0537e-01 -1.2652e-01  2e-02  2e-04  3e-04\n",
      " 4: -1.1243e-01 -1.1304e-01  6e-04  4e-06  4e-06\n",
      " 5: -1.1250e-01 -1.1251e-01  6e-06  4e-08  4e-08\n",
      " 6: -1.1250e-01 -1.1250e-01  6e-08  4e-10  4e-10\n",
      "Optimal solution found.\n",
      "[ 2.01e-07]\n",
      "[ 1.50e+00]\n",
      "[ 2.69e-08]\n",
      "[ 2.50e+00]\n",
      "\n"
     ]
    }
   ],
   "source": [
    "from cvxopt import matrix\n",
    "from cvxopt.solvers import qp\n",
    "\n",
    "P = matrix(P, (4, 4))\n",
    "q = matrix(q, (4, 1))\n",
    "G = matrix(G, (4, 4))\n",
    "h = matrix(h, (4, 1))\n",
    "A = matrix(A, (1, 4))\n",
    "b = matrix(b, (1, 1))\n",
    "\n",
    "sol = qp(P=P, q=q, G=G, h=h, A=A, b=b)\n",
    "print(sol[\"x\"])"
   ]
  }
 ],
 "metadata": {
  "kernelspec": {
   "display_name": "venv",
   "language": "python",
   "name": "python3"
  },
  "language_info": {
   "codemirror_mode": {
    "name": "ipython",
    "version": 3
   },
   "file_extension": ".py",
   "mimetype": "text/x-python",
   "name": "python",
   "nbconvert_exporter": "python",
   "pygments_lexer": "ipython3",
   "version": "3.10.3"
  },
  "orig_nbformat": 4,
  "vscode": {
   "interpreter": {
    "hash": "6b5a27a203de820ac365bd5a4b3ff58c67af6f6b7dc4d58e8a16e3b95ed901bb"
   }
  }
 },
 "nbformat": 4,
 "nbformat_minor": 2
}
