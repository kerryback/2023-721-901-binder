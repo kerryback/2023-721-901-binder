{
 "cells": [
  {
   "cell_type": "code",
   "execution_count": 1,
   "metadata": {
    "collapsed": false,
    "pycharm": {
     "name": "#%%\n"
    }
   },
   "outputs": [
    {
     "name": "stdout",
     "output_type": "stream",
     "text": [
      "     pcost       dcost       gap    pres   dres\n",
      " 0: -1.1111e+00 -2.2222e+00  1e+00  1e-16  1e+00\n",
      " 1: -1.1231e+00 -1.1680e+00  4e-02  1e-16  4e-02\n",
      " 2: -1.1250e+00 -1.1261e+00  1e-03  2e-16  3e-04\n",
      " 3: -1.1250e+00 -1.1250e+00  1e-05  6e-17  3e-06\n",
      " 4: -1.1250e+00 -1.1250e+00  1e-07  3e-16  3e-08\n",
      "Optimal solution found.\n",
      "[ 7.50e-01]\n",
      "[ 2.50e-01]\n",
      "\n"
     ]
    }
   ],
   "source": [
    "from cvxopt import matrix\n",
    "from cvxopt.solvers import  qp\n",
    "\n",
    "P = matrix([[2., 0.], [0., 2.]], (2, 2))\n",
    "q = matrix([-2., -1.], (2, 1))\n",
    "G = matrix([[-1., 0.], [0., -1.]], (2, 2))\n",
    "h = matrix([0., 0.], (2, 1))\n",
    "A = matrix([1., 1.], (1, 2))\n",
    "b = matrix([1.], (1, 1))\n",
    "sol = qp(P=P, q=q, G=G, h=h, A=A, b=b)\n",
    "print(sol[\"x\"])"
   ]
  },
  {
   "cell_type": "code",
   "execution_count": null,
   "metadata": {
    "collapsed": false,
    "pycharm": {
     "name": "#%%\n"
    }
   },
   "outputs": [],
   "source": []
  }
 ],
 "metadata": {
  "kernelspec": {
   "display_name": "venv",
   "language": "python",
   "name": "python3"
  },
  "language_info": {
   "codemirror_mode": {
    "name": "ipython",
    "version": 3
   },
   "file_extension": ".py",
   "mimetype": "text/x-python",
   "name": "python",
   "nbconvert_exporter": "python",
   "pygments_lexer": "ipython3",
   "version": "3.10.3"
  },
  "orig_nbformat": 4,
  "vscode": {
   "interpreter": {
    "hash": "6b5a27a203de820ac365bd5a4b3ff58c67af6f6b7dc4d58e8a16e3b95ed901bb"
   }
  }
 },
 "nbformat": 4,
 "nbformat_minor": 2
}
