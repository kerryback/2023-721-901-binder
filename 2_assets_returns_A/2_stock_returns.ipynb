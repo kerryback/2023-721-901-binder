{
 "cells": [
  {
   "cell_type": "code",
   "execution_count": 5,
   "metadata": {},
   "outputs": [],
   "source": [
    "import yfinance as yf\n",
    "\n",
    "price = yf.download('cvx', start='2010-01-01', progress=False)['Adj Close']\n",
    "ret_daily = price.pct_change()"
   ]
  },
  {
   "cell_type": "code",
   "execution_count": 6,
   "metadata": {},
   "outputs": [
    {
     "name": "stderr",
     "output_type": "stream",
     "text": [
      "C:\\Users\\kerry\\AppData\\Local\\Temp\\ipykernel_15672\\1792692440.py:5: UserWarning: Converting to PeriodArray/Index representation will drop timezone information.\n",
      "  ret_monthly.index = ret_monthly.index.to_period('M')\n",
      "C:\\Users\\kerry\\AppData\\Local\\Temp\\ipykernel_15672\\1792692440.py:6: UserWarning: Converting to PeriodArray/Index representation will drop timezone information.\n",
      "  ret_annual.index = ret_annual.index.to_period('Y')\n"
     ]
    }
   ],
   "source": [
    "ret_monthly = price.resample('M').last().pct_change()\n",
    "ret_annual = price.resample('Y').last().pct_change()\n",
    "\n",
    "# change datetime to monthly or annual (optional)\n",
    "ret_monthly.index = ret_monthly.index.to_period('M')\n",
    "ret_annual.index = ret_annual.index.to_period('Y')"
   ]
  },
  {
   "cell_type": "code",
   "execution_count": 7,
   "metadata": {},
   "outputs": [
    {
     "data": {
      "text/plain": [
       "Date\n",
       "2010         NaN\n",
       "2011    0.202800\n",
       "2012    0.050615\n",
       "2013    0.193086\n",
       "2014   -0.069889\n",
       "Freq: A-DEC, Name: Adj Close, dtype: float64"
      ]
     },
     "execution_count": 7,
     "metadata": {},
     "output_type": "execute_result"
    }
   ],
   "source": [
    "ret_annual.head()"
   ]
  }
 ],
 "metadata": {
  "kernelspec": {
   "display_name": "Python 3",
   "language": "python",
   "name": "python3"
  },
  "language_info": {
   "codemirror_mode": {
    "name": "ipython",
    "version": 3
   },
   "file_extension": ".py",
   "mimetype": "text/x-python",
   "name": "python",
   "nbconvert_exporter": "python",
   "pygments_lexer": "ipython3",
   "version": "3.10.8"
  },
  "vscode": {
   "interpreter": {
    "hash": "a98f34b6005ae2330f135078450db511ef8910ecc790235ef0560aa88aa6ce12"
   }
  }
 },
 "nbformat": 4,
 "nbformat_minor": 4
}
